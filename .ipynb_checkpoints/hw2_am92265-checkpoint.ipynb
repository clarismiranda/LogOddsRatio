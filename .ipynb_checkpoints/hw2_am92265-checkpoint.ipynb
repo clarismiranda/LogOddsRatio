{
 "cells": [
  {
   "cell_type": "code",
   "execution_count": 27,
   "metadata": {},
   "outputs": [],
   "source": [
    "import pandas as pd\n",
    "from math import log\n",
    "from nltk import word_tokenize\n",
    "import string as string"
   ]
  },
  {
   "cell_type": "code",
   "execution_count": 28,
   "metadata": {},
   "outputs": [],
   "source": [
    "data = pd.read_csv(\"sentiment140_sample1.csv\", header = None, encoding = \"ISO-8859-1\")\n",
    "data.columns = [\"polarity\",\"tweetId\",\"date\",\"query\",\"username\",\"tweetText\"]"
   ]
  },
  {
   "cell_type": "code",
   "execution_count": 37,
   "metadata": {},
   "outputs": [],
   "source": [
    "#Q1 Frecuency counts\n",
    "def get_counts(data):\n",
    "    counts = {\"pos\":{}, \"neg\":{}}\n",
    "    pos = {}\n",
    "    neg = {}\n",
    "    dataPositive = list(data.groupby('polarity').get_group(4)['tweetText'])\n",
    "    dataNegative = list(data.groupby('polarity').get_group(0)['tweetText'])\n",
    "    # Count for positive polarity\n",
    "    for x in dataPositive:\n",
    "        for word in word_tokenize(x):\n",
    "            if word.isalpha():\n",
    "                word = word.lower()\n",
    "                if word in pos:\n",
    "                    pos[word] += 1\n",
    "                else:\n",
    "                    pos[word] = 1\n",
    "    # Count for negative polarity\n",
    "    for x in dataNegative:\n",
    "        for word in word_tokenize(x):\n",
    "            if word.isalpha():\n",
    "                word = word.lower()\n",
    "                if word in neg:\n",
    "                    neg[word] += 1\n",
    "                else:\n",
    "                    neg[word] = 1\n",
    "    # Assign positive and negative dictionary to counts dict\n",
    "    counts[\"pos\"] = pos\n",
    "    counts[\"neg\"] = neg\n",
    "    return counts"
   ]
  },
  {
   "cell_type": "code",
   "execution_count": 38,
   "metadata": {},
   "outputs": [
    {
     "name": "stdout",
     "output_type": "stream",
     "text": [
      "124\n",
      "99\n"
     ]
    }
   ],
   "source": [
    "counts = get_counts(data)\n",
    "print(counts[\"pos\"][\"happy\"])\n",
    "print(counts[\"neg\"][\"hate\"])"
   ]
  },
  {
   "cell_type": "code",
   "execution_count": 39,
   "metadata": {},
   "outputs": [],
   "source": [
    "# Q2 Calculating Probability of Word\n",
    "def get_word_prob(counts,word,polarity):\n",
    "    if word in counts[polarity]:\n",
    "        return counts[polarity][word]/sum([x for x in counts[polarity].values()])\n",
    "    else:\n",
    "        return 0"
   ]
  },
  {
   "cell_type": "code",
   "execution_count": 40,
   "metadata": {},
   "outputs": [
    {
     "name": "stdout",
     "output_type": "stream",
     "text": [
      "0.002558903051371186\n",
      "0.00012162305973212521\n"
     ]
    }
   ],
   "source": [
    "print(get_word_prob(counts, \"great\", \"pos\"))\n",
    "print(get_word_prob(counts, \"glad\", \"neg\"))"
   ]
  },
  {
   "cell_type": "code",
   "execution_count": 41,
   "metadata": {},
   "outputs": [],
   "source": [
    "# Q3 Calculating Log odds ratio of Word\n",
    "def log_odds_ratio(counts,word,polarity):\n",
    "    opposite_polarity = \"\"\n",
    "    \n",
    "    if polarity==\"pos\":\n",
    "        opposite_polarity = \"neg\"\n",
    "    if polarity==\"neg\":\n",
    "        opposite_polarity = \"pos\"\n",
    "    \n",
    "    current_prob = get_word_prob(counts,word,polarity)\n",
    "    opposite_prob = get_word_prob(counts,word,opposite_polarity)\n",
    "    \n",
    "    if opposite_prob > 0:\n",
    "        return log(current_prob/opposite_prob)\n",
    "    else:\n",
    "        return 1000"
   ]
  },
  {
   "cell_type": "code",
   "execution_count": 42,
   "metadata": {},
   "outputs": [
    {
     "name": "stdout",
     "output_type": "stream",
     "text": [
      "1.275701302546381\n",
      "-0.09165794206814183\n"
     ]
    }
   ],
   "source": [
    "print(log_odds_ratio(counts, \"great\", \"pos\"))\n",
    "print(log_odds_ratio(counts, \"the\", \"neg\"))"
   ]
  },
  {
   "cell_type": "code",
   "execution_count": 22,
   "metadata": {},
   "outputs": [],
   "source": [
    "def log_odds(x):\n",
    "    return x[1]"
   ]
  },
  {
   "cell_type": "code",
   "execution_count": 67,
   "metadata": {},
   "outputs": [],
   "source": [
    "# Q4 Sorting log odds ratios\n",
    "def sort_pos_words(data):\n",
    "    counts = get_counts(data)\n",
    "    totalwords = 0\n",
    "    lst = []\n",
    "    \n",
    "    # create list of tuples\n",
    "    for word, count in counts[\"pos\"].items():\n",
    "        if word in counts[\"pos\"]:\n",
    "            totalwords = totalwords + counts[\"pos\"][word]\n",
    "        if word in counts[\"neg\"]:\n",
    "            totalwords = totalwords + counts[\"neg\"][word]\n",
    "        if totalwords >= 10:\n",
    "            lst.append(tuple((word, log_odds_ratio(counts,word,\"pos\"))))\n",
    "            \n",
    "    # sort based on polarity\n",
    "    lst.sort(key = log_odds,reverse=True)\n",
    "    return lst"
   ]
  },
  {
   "cell_type": "code",
   "execution_count": 69,
   "metadata": {},
   "outputs": [
    {
     "name": "stdout",
     "output_type": "stream",
     "text": [
      "[('strokes', 1000), ('experienced', 1000), ('soma', 1000), ('maddy', 1000), ('sounding', 1000), ('boheme', 1000), ('nsfw', 1000), ('wntd', 1000), ('bikeindia', 1000), ('bunnies', 1000)]\n",
      "[('expensive', -2.508004655425329), ('bus', -2.5821126275790505), ('hates', -2.651105499066002), ('throat', -2.651105499066002), ('tummy', -2.715644020203573), ('sad', -2.8052561788932606), ('missing', -2.987577735687215), ('died', -3.121109128311738), ('headache', -3.4694158225799536), ('hurts', -3.8348755960744185)]\n"
     ]
    }
   ],
   "source": [
    "lst = sort_pos_words(data)\n",
    "print(lst[:10])\n",
    "print(lst[-10:])"
   ]
  },
  {
   "cell_type": "code",
   "execution_count": null,
   "metadata": {},
   "outputs": [],
   "source": []
  },
  {
   "cell_type": "code",
   "execution_count": null,
   "metadata": {},
   "outputs": [],
   "source": []
  }
 ],
 "metadata": {
  "kernelspec": {
   "display_name": "Python 3",
   "language": "python",
   "name": "python3"
  },
  "language_info": {
   "codemirror_mode": {
    "name": "ipython",
    "version": 3
   },
   "file_extension": ".py",
   "mimetype": "text/x-python",
   "name": "python",
   "nbconvert_exporter": "python",
   "pygments_lexer": "ipython3",
   "version": "3.7.1"
  }
 },
 "nbformat": 4,
 "nbformat_minor": 2
}
